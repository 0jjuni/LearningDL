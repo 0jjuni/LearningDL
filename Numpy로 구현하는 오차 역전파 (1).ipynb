{
 "cells": [
  {
   "cell_type": "code",
   "execution_count": 1,
   "id": "ba1e6886",
   "metadata": {},
   "outputs": [],
   "source": [
    "import numpy as np"
   ]
  },
  {
   "cell_type": "code",
   "execution_count": 3,
   "id": "00da20b8",
   "metadata": {},
   "outputs": [
    {
     "name": "stdout",
     "output_type": "stream",
     "text": [
      "Epoch 1: Cost = 6600.0000, w = 5.2000, b = 1.6000\n",
      "Epoch 11: Cost = 355.5166, w = 20.5692, b = 7.4245\n",
      "Epoch 21: Cost = 305.9810, w = 21.2394, b = 9.1253\n",
      "Epoch 31: Cost = 285.8235, w = 20.9338, b = 10.5055\n",
      "Epoch 41: Cost = 267.1042, w = 20.5743, b = 11.8219\n",
      "Epoch 51: Cost = 249.6113, w = 20.2225, b = 13.0933\n",
      "Epoch 61: Cost = 233.2640, w = 19.8821, b = 14.3223\n",
      "Epoch 71: Cost = 217.9874, w = 19.5531, b = 15.5104\n",
      "Epoch 81: Cost = 203.7112, w = 19.2350, b = 16.6589\n",
      "Epoch 91: Cost = 190.3700, w = 18.9274, b = 17.7691\n",
      "\n",
      "최종 가중치와 절편 값은: w = 18.6594, b = 18.7367\n"
     ]
    }
   ],
   "source": [
    "# 공부시간(h)을 x로 넣고 시험점수(y)를 예측\n",
    "X = np.array([1, 2, 3, 4, 5])\n",
    "y = np.array([60, 70, 80, 90, 100])\n",
    "\n",
    "# 평균 계산을 위한 데이터 갯수를 미리 구함\n",
    "m = len(X) # 학생 수\n",
    "\n",
    "# 파라미터 초기화\n",
    "w = 0\n",
    "b = 0\n",
    "\n",
    "# 학습률, 반복 횟수\n",
    "learning_rate = 0.01 #경사하강법에서 접선의 기울기에 곱하는 값\n",
    "epochs = 100 # 학습 횟수\n",
    "\n",
    "for epoch in range(epochs):\n",
    "    # 선형 모델\n",
    "    y_pred = w * X + b\n",
    "\n",
    "    # Mean Squared Error\n",
    "    cost = (1/m) * sum((y - y_pred)**2)\n",
    "\n",
    "    # 기울기 계산\n",
    "    dw = -(2/m) * sum(X * (y - y_pred))  # 가중치에 대한 편미분\n",
    "    db = -(2/m) * sum(y - y_pred)        # 절편에 대한 편미분\n",
    "\n",
    "    # 경사하강법 수행\n",
    "    w = w - learning_rate * dw\n",
    "    b = b - learning_rate * db\n",
    "\n",
    "    # 매 10회마다 print\n",
    "    if epoch % 10 == 0:\n",
    "        print(f'Epoch {epoch+1}: Cost = {cost:.4f}, w = {w:.4f}, b = {b:.4f}')\n",
    "\n",
    "# 학습이 끝난 후 최종 가중치와 절편 출력\n",
    "print(f'\\n최종 가중치와 절편 값은: w = {w:.4f}, b = {b:.4f}')\n"
   ]
  },
  {
   "cell_type": "code",
   "execution_count": 4,
   "id": "312999b9",
   "metadata": {},
   "outputs": [
    {
     "name": "stdout",
     "output_type": "stream",
     "text": [
      "예측 값: [ 37.39614963  56.05557597  74.71500231  93.37442865 112.03385499]\n"
     ]
    }
   ],
   "source": [
    "# 모델 예측\n",
    "y_pred = w * X + b\n",
    "print(f'예측 값: {y_pred}')"
   ]
  }
 ],
 "metadata": {
  "kernelspec": {
   "display_name": "Python 3 (ipykernel)",
   "language": "python",
   "name": "python3"
  },
  "language_info": {
   "codemirror_mode": {
    "name": "ipython",
    "version": 3
   },
   "file_extension": ".py",
   "mimetype": "text/x-python",
   "name": "python",
   "nbconvert_exporter": "python",
   "pygments_lexer": "ipython3",
   "version": "3.11.5"
  }
 },
 "nbformat": 4,
 "nbformat_minor": 5
}
